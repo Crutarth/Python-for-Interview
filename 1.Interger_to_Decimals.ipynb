{
 "cells": [
  {
   "cell_type": "markdown",
   "id": "a1079ee0",
   "metadata": {},
   "source": [
    "1 - Convert Interger into Decimals"
   ]
  },
  {
   "cell_type": "code",
   "execution_count": 2,
   "id": "26b4905d",
   "metadata": {},
   "outputs": [
    {
     "name": "stdout",
     "output_type": "stream",
     "text": [
      "100\n",
      "<class 'decimal.Decimal'>\n"
     ]
    }
   ],
   "source": [
    "import decimal\n",
    "\n",
    "integer = 100\n",
    "value = decimal.Decimal(integer)\n",
    "print(value)  # 100\n",
    "print(type(value))  # <class 'decimal.Decimal'>"
   ]
  },
  {
   "cell_type": "markdown",
   "id": "cd94c9eb",
   "metadata": {},
   "source": [
    "2 - Converting an String Intergers into Decimals"
   ]
  },
  {
   "cell_type": "code",
   "execution_count": 3,
   "id": "07dfc740",
   "metadata": {},
   "outputs": [
    {
     "name": "stdout",
     "output_type": "stream",
     "text": [
      "12345\n",
      "<class 'decimal.Decimal'>\n"
     ]
    }
   ],
   "source": [
    "import decimal\n",
    "\n",
    "string = '12345'\n",
    "value = decimal.Decimal(string)\n",
    "print(value)  # 12345\n",
    "print(type(value))  # <class 'decimal.Decimal'>"
   ]
  }
 ],
 "metadata": {
  "kernelspec": {
   "display_name": "Python 3",
   "language": "python",
   "name": "python3"
  },
  "language_info": {
   "codemirror_mode": {
    "name": "ipython",
    "version": 3
   },
   "file_extension": ".py",
   "mimetype": "text/x-python",
   "name": "python",
   "nbconvert_exporter": "python",
   "pygments_lexer": "ipython3",
   "version": "3.13.3"
  }
 },
 "nbformat": 4,
 "nbformat_minor": 5
}
